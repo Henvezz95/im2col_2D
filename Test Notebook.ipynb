{
 "cells": [
  {
   "cell_type": "code",
   "execution_count": 1,
   "metadata": {},
   "outputs": [],
   "source": [
    "from python.im2col import im2col_SIMD\n",
    "import numpy as np\n",
    "from time import perf_counter_ns\n",
    "import cv2"
   ]
  },
  {
   "cell_type": "code",
   "execution_count": 2,
   "metadata": {},
   "outputs": [],
   "source": [
    "def im2col_ref(img, window):\n",
    "    ker_h, ker_w = window[0], window[1]\n",
    "    pad_h = ker_h//2\n",
    "    pad_w = ker_w//2\n",
    "    img_padded = cv2.copyMakeBorder(img,pad_h,pad_h,pad_w,pad_w,cv2.BORDER_CONSTANT)\n",
    "    result = np.lib.stride_tricks.sliding_window_view(img_padded, window).reshape(-1,ker_h,ker_w)\n",
    "    l, _, _ = result.shape\n",
    "    return result.reshape(l,-1)"
   ]
  },
  {
   "cell_type": "markdown",
   "metadata": {},
   "source": [
    "# Check Correctness"
   ]
  },
  {
   "cell_type": "code",
   "execution_count": null,
   "metadata": {},
   "outputs": [],
   "source": [
    "kernels = [(3,3),(5,5),(7,7),(9,9),(11,11),(7,3),(3,7),(11,3),(3,11)]\n",
    "for ker in kernels:\n",
    "    h_size, w_size = ker\n",
    "    pad_h = h_size//2\n",
    "    pad_w = w_size//2\n",
    "\n",
    "    a = np.random.randint(0,255,(128,128)).astype('float32')\n",
    "    result_1 = im2col_SIMD(a, h_size, w_size)\n",
    "    result_2 = im2col_ref(a, (h_size,w_size))\n",
    "    mat = np.mean(result_1 == result_2)\n",
    "\n",
    "    print(f'Kernel {h_size}x{w_size} is correct:     \\t', mat == 1)"
   ]
  },
  {
   "cell_type": "markdown",
   "metadata": {},
   "source": [
    "# Check Speed"
   ]
  },
  {
   "cell_type": "code",
   "execution_count": null,
   "metadata": {},
   "outputs": [],
   "source": [
    "kernels = [(3,3),(5,5),(7,7),(9,9),(11,11),(7,3),(3,7),(11,3),(3,11)]\n",
    "for ker in kernels:\n",
    "    h_size, w_size = ker\n",
    "\n",
    "    times = []\n",
    "    all_times = []\n",
    "    for _ in range(100):\n",
    "        a = np.random.randint(0,255,(128,128)).astype('float32')\n",
    "        for _ in range(5):\n",
    "            start = perf_counter_ns()\n",
    "            result = im2col_SIMD(a, h_size, w_size)\n",
    "            times.append(perf_counter_ns()-start)\n",
    "        all_times.append(min(times)/1e3)\n",
    "    print(f'Time for kernel size {h_size}x{w_size}:   \\t', np.round(np.mean(all_times),2), 'us')\n"
   ]
  }
 ],
 "metadata": {
  "kernelspec": {
   "display_name": "Python 3",
   "language": "python",
   "name": "python3"
  },
  "language_info": {
   "codemirror_mode": {
    "name": "ipython",
    "version": 3
   },
   "file_extension": ".py",
   "mimetype": "text/x-python",
   "name": "python",
   "nbconvert_exporter": "python",
   "pygments_lexer": "ipython3",
   "version": "3.10.12"
  }
 },
 "nbformat": 4,
 "nbformat_minor": 2
}
